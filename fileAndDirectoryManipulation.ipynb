{
 "cells": [
  {
   "cell_type": "markdown",
   "id": "e975a81e-f953-44d5-a521-b26bbcec8576",
   "metadata": {},
   "source": [
    "##File and Directory Manipulation"
   ]
  },
  {
   "cell_type": "code",
   "execution_count": null,
   "id": "583e3539-d3df-4fda-9a01-e93a0b9ae17c",
   "metadata": {},
   "outputs": [],
   "source": [
    "!pwd\n",
    "import os\n",
    "pwd = os.getcwd()\n",
    "print(pwd)"
   ]
  },
  {
   "cell_type": "code",
   "execution_count": null,
   "id": "c4b06b24-aa96-4548-8017-76345c723af6",
   "metadata": {},
   "outputs": [],
   "source": [
    "!ls\n",
    "\n",
    "import os\n",
    "\n",
    "pwd = os.getcwd()\n",
    "items = os.listdir(pwd)\n",
    "for item in items:\n",
    "    print(item)"
   ]
  },
  {
   "cell_type": "code",
   "execution_count": null,
   "id": "2a33847c-9898-403b-9497-9a1b4deba0c8",
   "metadata": {},
   "outputs": [],
   "source": []
  }
 ],
 "metadata": {
  "kernelspec": {
   "display_name": "Python 3 (ipykernel)",
   "language": "python",
   "name": "python3"
  },
  "language_info": {
   "codemirror_mode": {
    "name": "ipython",
    "version": 3
   },
   "file_extension": ".py",
   "mimetype": "text/x-python",
   "name": "python",
   "nbconvert_exporter": "python",
   "pygments_lexer": "ipython3",
   "version": "3.10.12"
  }
 },
 "nbformat": 4,
 "nbformat_minor": 5
}
