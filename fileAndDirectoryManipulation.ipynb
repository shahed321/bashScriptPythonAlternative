{
 "cells": [
  {
   "cell_type": "markdown",
   "id": "e975a81e-f953-44d5-a521-b26bbcec8576",
   "metadata": {},
   "source": [
    "##File and Directory Manipulation"
   ]
  },
  {
   "cell_type": "code",
   "execution_count": null,
   "id": "583e3539-d3df-4fda-9a01-e93a0b9ae17c",
   "metadata": {},
   "outputs": [],
   "source": [
    "!pwd\n",
    "import os\n",
    "pwd = os.getcwd()\n",
    "print(pwd)"
   ]
  },
  {
   "cell_type": "code",
   "execution_count": null,
   "id": "c4b06b24-aa96-4548-8017-76345c723af6",
   "metadata": {},
   "outputs": [],
   "source": [
    "!ls\n",
    "\n",
    "import os\n",
    "\n",
    "pwd = os.getcwd()\n",
    "items = os.listdir(pwd)\n",
    "for item in items:\n",
    "    print(item)"
   ]
  },
  {
   "cell_type": "code",
   "execution_count": 3,
   "id": "2a33847c-9898-403b-9497-9a1b4deba0c8",
   "metadata": {},
   "outputs": [
    {
     "name": "stdout",
     "output_type": "stream",
     "text": [
      "total 12\n",
      "drwxrwxr-x 7 sa sa 4096 আগস্ট     15 01:30 env\n",
      "-rw-rw-r-- 1 sa sa 1536 আগস্ট     16 17:22 fileAndDirectoryManipulation.ipynb\n",
      "-rw-rw-r-- 1 sa sa   29 আগস্ট     15 01:21 README.md\n",
      "drwx     4096 1692041438.3 env\n",
      "-rw-       29 1692040878.9 README.md\n",
      "drwx     4096 1692042368.7 .git\n",
      "-rw-     1536 1692184960.6 fileAndDirectoryManipulation.ipynb\n",
      "-rw-     3078 1692040878.9 .gitignore\n",
      "drwx     4096 1692041814.9 .ipynb_checkpoints\n"
     ]
    }
   ],
   "source": [
    "!ls -l\n",
    "import os\n",
    "\n",
    "def list_files_detailed(path='.'):\n",
    "    for item in os.listdir(path):\n",
    "        item_path = os.path.join(path, item)\n",
    "        item_info = os.stat(item_path)\n",
    "        item_size = item_info.st_size\n",
    "        item_mode = item_info.st_mode\n",
    "        item_time = item_info.st_mtime\n",
    "        item_type = 'd' if os.path.isdir(item_path) else '-'\n",
    "\n",
    "        permissions = [\n",
    "            ('r', item_mode & 0o400),\n",
    "            ('w', item_mode & 0o200),\n",
    "            ('x', item_mode & 0o100),\n",
    "        ]\n",
    "\n",
    "        permission_str = ''.join(perm if has_perm else '-' for perm, has_perm in permissions)\n",
    "\n",
    "        print(f\"{item_type}{permission_str} {item_size:8d} {item_time:12.1f} {item}\")\n",
    "\n",
    "if __name__ == \"__main__\":\n",
    "    list_files_detailed()\n"
   ]
  },
  {
   "cell_type": "code",
   "execution_count": null,
   "id": "1f4e2625-66a1-470c-89e4-a6751c997016",
   "metadata": {},
   "outputs": [],
   "source": []
  }
 ],
 "metadata": {
  "kernelspec": {
   "display_name": "Python 3 (ipykernel)",
   "language": "python",
   "name": "python3"
  },
  "language_info": {
   "codemirror_mode": {
    "name": "ipython",
    "version": 3
   },
   "file_extension": ".py",
   "mimetype": "text/x-python",
   "name": "python",
   "nbconvert_exporter": "python",
   "pygments_lexer": "ipython3",
   "version": "3.10.12"
  }
 },
 "nbformat": 4,
 "nbformat_minor": 5
}
